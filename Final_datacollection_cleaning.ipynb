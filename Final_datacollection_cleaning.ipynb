{
 "cells": [
  {
   "cell_type": "code",
   "execution_count": 1,
   "id": "ae57632a",
   "metadata": {},
   "outputs": [],
   "source": [
    "import requests\n",
    "from bs4 import BeautifulSoup\n",
    "import pandas as pd"
   ]
  },
  {
   "cell_type": "code",
   "execution_count": 2,
   "id": "e23722e2",
   "metadata": {},
   "outputs": [],
   "source": [
    "url = 'https://www.technodom.kz/'\n",
    "headers = {'User-Agent' : 'Mozilla/5.0 (Windows NT 10.0; Win64; x64) AppleWebKit/537.36 (KHTML, like Gecko) Chrome/87.0.4280.88 Safari/537.36'}"
   ]
  },
  {
   "cell_type": "code",
   "execution_count": 3,
   "id": "a2bf7f7e",
   "metadata": {},
   "outputs": [],
   "source": [
    "productlinks = []\n",
    "for x in range(1, 15):\n",
    "    r = requests.get(f'https://www.technodom.kz/catalog/smartfony-i-gadzhety/smartfony-i-telefony?page={x}')\n",
    "    soup = BeautifulSoup(r.content, 'lxml')\n",
    "    productlist = soup.find_all('ul', class_='category-page-list__list')\n",
    "    for product in productlist:\n",
    "        for link in product.find_all('a', href = True):\n",
    "            productlinks.append(url + link['href'])\n",
    "            productlinks = set(productlinks)\n",
    "            productlinks = [ x for x in productlinks if \"#commentsTab\" not in x ]"
   ]
  },
  {
   "cell_type": "code",
   "execution_count": 4,
   "id": "52f99a42",
   "metadata": {},
   "outputs": [
    {
     "name": "stdout",
     "output_type": "stream",
     "text": [
      "168\n"
     ]
    }
   ],
   "source": [
    "print(len(productlinks))"
   ]
  },
  {
   "cell_type": "code",
   "execution_count": 5,
   "id": "e5795410",
   "metadata": {},
   "outputs": [],
   "source": [
    "itemlist = []\n",
    "for link in productlinks:\n",
    "    r = requests.get(link, headers = headers)\n",
    "    soup = BeautifulSoup(r.content, 'lxml')\n",
    "    name = soup.find('p', class_='Typography product-info__mobile-title Typography__Subtitle Typography__Subtitle_Small').text.strip()\n",
    "    try:\n",
    "        price = soup.find('p', class_='Typography Typography__Heading Typography__Heading_H1').text.strip()\n",
    "    except:\n",
    "        price = 'Sold Out'\n",
    "    try:\n",
    "        rating = soup.find('p', class_='Typography StickerNext StickerNext__Text product-rating__sticker Typography__Caption Typography__Caption_Bold').text.strip()\n",
    "    except: \n",
    "        star = 'No Ratings' \n",
    "    item = {'Name' : name,'Price' : price,'Rating out of 5' : rating}\n",
    "    itemlist.append(item)"
   ]
  },
  {
   "cell_type": "code",
   "execution_count": 6,
   "id": "1dd710d8",
   "metadata": {},
   "outputs": [
    {
     "data": {
      "text/html": [
       "<div>\n",
       "<style scoped>\n",
       "    .dataframe tbody tr th:only-of-type {\n",
       "        vertical-align: middle;\n",
       "    }\n",
       "\n",
       "    .dataframe tbody tr th {\n",
       "        vertical-align: top;\n",
       "    }\n",
       "\n",
       "    .dataframe thead th {\n",
       "        text-align: right;\n",
       "    }\n",
       "</style>\n",
       "<table border=\"1\" class=\"dataframe\">\n",
       "  <thead>\n",
       "    <tr style=\"text-align: right;\">\n",
       "      <th></th>\n",
       "      <th>Name</th>\n",
       "      <th>Price</th>\n",
       "      <th>Rating out of 5</th>\n",
       "    </tr>\n",
       "  </thead>\n",
       "  <tbody>\n",
       "    <tr>\n",
       "      <th>0</th>\n",
       "      <td>Смартфон Xiaomi Redmi 10C 128GB/4GB Graphite Gray</td>\n",
       "      <td>Sold Out</td>\n",
       "      <td>4.8</td>\n",
       "    </tr>\n",
       "    <tr>\n",
       "      <th>1</th>\n",
       "      <td>Смартфон Apple iPhone 13 Pro Max 128GB Sierra ...</td>\n",
       "      <td>Sold Out</td>\n",
       "      <td>0.0</td>\n",
       "    </tr>\n",
       "    <tr>\n",
       "      <th>2</th>\n",
       "      <td>Смартфон Samsung Galaxy S22 Ultra 512GB Phanto...</td>\n",
       "      <td>Sold Out</td>\n",
       "      <td>5.0</td>\n",
       "    </tr>\n",
       "    <tr>\n",
       "      <th>3</th>\n",
       "      <td>Смартфон Xiaomi 12 Lite 256GB/8GB Lite Pink</td>\n",
       "      <td>239 990 ₸</td>\n",
       "      <td>5.0</td>\n",
       "    </tr>\n",
       "    <tr>\n",
       "      <th>4</th>\n",
       "      <td>Смартфон Apple iPhone 13 Pro Max 512GB Sierra ...</td>\n",
       "      <td>Sold Out</td>\n",
       "      <td>0.0</td>\n",
       "    </tr>\n",
       "    <tr>\n",
       "      <th>...</th>\n",
       "      <td>...</td>\n",
       "      <td>...</td>\n",
       "      <td>...</td>\n",
       "    </tr>\n",
       "    <tr>\n",
       "      <th>163</th>\n",
       "      <td>Смартфон HUAWEI Nova Y70 128GB Midnight Black</td>\n",
       "      <td>Sold Out</td>\n",
       "      <td>5.0</td>\n",
       "    </tr>\n",
       "    <tr>\n",
       "      <th>164</th>\n",
       "      <td>Смартфон Apple iPhone 14 Plus 512GB Starlight</td>\n",
       "      <td>839 990 ₸</td>\n",
       "      <td>4.0</td>\n",
       "    </tr>\n",
       "    <tr>\n",
       "      <th>165</th>\n",
       "      <td>Смартфон Samsung Galaxy S22+ 256GB Phantom Black</td>\n",
       "      <td>Sold Out</td>\n",
       "      <td>5.0</td>\n",
       "    </tr>\n",
       "    <tr>\n",
       "      <th>166</th>\n",
       "      <td>Смартфон Samsung Galaxy S22 Ultra 128GB Green</td>\n",
       "      <td>Sold Out</td>\n",
       "      <td>4.5</td>\n",
       "    </tr>\n",
       "    <tr>\n",
       "      <th>167</th>\n",
       "      <td>Смартфон Samsung Galaxy A33 128GB Blue</td>\n",
       "      <td>Sold Out</td>\n",
       "      <td>5.0</td>\n",
       "    </tr>\n",
       "  </tbody>\n",
       "</table>\n",
       "<p>168 rows × 3 columns</p>\n",
       "</div>"
      ],
      "text/plain": [
       "                                                  Name      Price  \\\n",
       "0    Смартфон Xiaomi Redmi 10C 128GB/4GB Graphite Gray   Sold Out   \n",
       "1    Смартфон Apple iPhone 13 Pro Max 128GB Sierra ...   Sold Out   \n",
       "2    Смартфон Samsung Galaxy S22 Ultra 512GB Phanto...   Sold Out   \n",
       "3          Смартфон Xiaomi 12 Lite 256GB/8GB Lite Pink  239 990 ₸   \n",
       "4    Смартфон Apple iPhone 13 Pro Max 512GB Sierra ...   Sold Out   \n",
       "..                                                 ...        ...   \n",
       "163      Смартфон HUAWEI Nova Y70 128GB Midnight Black   Sold Out   \n",
       "164      Смартфон Apple iPhone 14 Plus 512GB Starlight  839 990 ₸   \n",
       "165   Смартфон Samsung Galaxy S22+ 256GB Phantom Black   Sold Out   \n",
       "166      Смартфон Samsung Galaxy S22 Ultra 128GB Green   Sold Out   \n",
       "167             Смартфон Samsung Galaxy A33 128GB Blue   Sold Out   \n",
       "\n",
       "    Rating out of 5  \n",
       "0               4.8  \n",
       "1               0.0  \n",
       "2               5.0  \n",
       "3               5.0  \n",
       "4               0.0  \n",
       "..              ...  \n",
       "163             5.0  \n",
       "164             4.0  \n",
       "165             5.0  \n",
       "166             4.5  \n",
       "167             5.0  \n",
       "\n",
       "[168 rows x 3 columns]"
      ]
     },
     "execution_count": 6,
     "metadata": {},
     "output_type": "execute_result"
    }
   ],
   "source": [
    "data = pd.DataFrame(itemlist)\n",
    "data"
   ]
  },
  {
   "cell_type": "code",
   "execution_count": 7,
   "id": "86ae3a39",
   "metadata": {},
   "outputs": [
    {
     "name": "stdout",
     "output_type": "stream",
     "text": [
      "<class 'pandas.core.frame.DataFrame'>\n",
      "RangeIndex: 168 entries, 0 to 167\n",
      "Data columns (total 3 columns):\n",
      " #   Column           Non-Null Count  Dtype \n",
      "---  ------           --------------  ----- \n",
      " 0   Name             168 non-null    object\n",
      " 1   Price            168 non-null    object\n",
      " 2   Rating out of 5  168 non-null    object\n",
      "dtypes: object(3)\n",
      "memory usage: 4.1+ KB\n"
     ]
    }
   ],
   "source": [
    "data.info()"
   ]
  },
  {
   "cell_type": "code",
   "execution_count": 8,
   "id": "b46ce8c8",
   "metadata": {},
   "outputs": [],
   "source": [
    "data['Name'] = data['Name'].astype('string')"
   ]
  },
  {
   "cell_type": "code",
   "execution_count": 9,
   "id": "32f87d3e",
   "metadata": {},
   "outputs": [],
   "source": [
    "data['Name'] = data['Name'].str.split(n=1).str[1]"
   ]
  },
  {
   "cell_type": "code",
   "execution_count": 10,
   "id": "19e83325",
   "metadata": {},
   "outputs": [
    {
     "data": {
      "text/html": [
       "<div>\n",
       "<style scoped>\n",
       "    .dataframe tbody tr th:only-of-type {\n",
       "        vertical-align: middle;\n",
       "    }\n",
       "\n",
       "    .dataframe tbody tr th {\n",
       "        vertical-align: top;\n",
       "    }\n",
       "\n",
       "    .dataframe thead th {\n",
       "        text-align: right;\n",
       "    }\n",
       "</style>\n",
       "<table border=\"1\" class=\"dataframe\">\n",
       "  <thead>\n",
       "    <tr style=\"text-align: right;\">\n",
       "      <th></th>\n",
       "      <th>Name</th>\n",
       "      <th>Price</th>\n",
       "      <th>Rating out of 5</th>\n",
       "    </tr>\n",
       "  </thead>\n",
       "  <tbody>\n",
       "    <tr>\n",
       "      <th>0</th>\n",
       "      <td>Xiaomi Redmi 10C 128GB/4GB Graphite Gray</td>\n",
       "      <td>Sold Out</td>\n",
       "      <td>4.8</td>\n",
       "    </tr>\n",
       "    <tr>\n",
       "      <th>1</th>\n",
       "      <td>Apple iPhone 13 Pro Max 128GB Sierra Blue</td>\n",
       "      <td>Sold Out</td>\n",
       "      <td>0.0</td>\n",
       "    </tr>\n",
       "    <tr>\n",
       "      <th>2</th>\n",
       "      <td>Samsung Galaxy S22 Ultra 512GB Phantom White</td>\n",
       "      <td>Sold Out</td>\n",
       "      <td>5.0</td>\n",
       "    </tr>\n",
       "    <tr>\n",
       "      <th>3</th>\n",
       "      <td>Xiaomi 12 Lite 256GB/8GB Lite Pink</td>\n",
       "      <td>239 990 ₸</td>\n",
       "      <td>5.0</td>\n",
       "    </tr>\n",
       "    <tr>\n",
       "      <th>4</th>\n",
       "      <td>Apple iPhone 13 Pro Max 512GB Sierra Blue</td>\n",
       "      <td>Sold Out</td>\n",
       "      <td>0.0</td>\n",
       "    </tr>\n",
       "  </tbody>\n",
       "</table>\n",
       "</div>"
      ],
      "text/plain": [
       "                                           Name      Price Rating out of 5\n",
       "0      Xiaomi Redmi 10C 128GB/4GB Graphite Gray   Sold Out             4.8\n",
       "1     Apple iPhone 13 Pro Max 128GB Sierra Blue   Sold Out             0.0\n",
       "2  Samsung Galaxy S22 Ultra 512GB Phantom White   Sold Out             5.0\n",
       "3            Xiaomi 12 Lite 256GB/8GB Lite Pink  239 990 ₸             5.0\n",
       "4     Apple iPhone 13 Pro Max 512GB Sierra Blue   Sold Out             0.0"
      ]
     },
     "execution_count": 10,
     "metadata": {},
     "output_type": "execute_result"
    }
   ],
   "source": [
    "data.head()"
   ]
  },
  {
   "cell_type": "code",
   "execution_count": 11,
   "id": "c9aef16b",
   "metadata": {
    "scrolled": true
   },
   "outputs": [
    {
     "data": {
      "text/html": [
       "<div>\n",
       "<style scoped>\n",
       "    .dataframe tbody tr th:only-of-type {\n",
       "        vertical-align: middle;\n",
       "    }\n",
       "\n",
       "    .dataframe tbody tr th {\n",
       "        vertical-align: top;\n",
       "    }\n",
       "\n",
       "    .dataframe thead th {\n",
       "        text-align: right;\n",
       "    }\n",
       "</style>\n",
       "<table border=\"1\" class=\"dataframe\">\n",
       "  <thead>\n",
       "    <tr style=\"text-align: right;\">\n",
       "      <th></th>\n",
       "      <th>Name</th>\n",
       "      <th>Price</th>\n",
       "      <th>Rating out of 5</th>\n",
       "    </tr>\n",
       "  </thead>\n",
       "  <tbody>\n",
       "    <tr>\n",
       "      <th>3</th>\n",
       "      <td>Xiaomi 12 Lite 256GB/8GB Lite Pink</td>\n",
       "      <td>239 990 ₸</td>\n",
       "      <td>5.0</td>\n",
       "    </tr>\n",
       "    <tr>\n",
       "      <th>6</th>\n",
       "      <td>Samsung Galaxy A03 32GB Red</td>\n",
       "      <td>69 990 ₸</td>\n",
       "      <td>5.0</td>\n",
       "    </tr>\n",
       "    <tr>\n",
       "      <th>9</th>\n",
       "      <td>OPPO Reno 7 256GB 5G Starry Black</td>\n",
       "      <td>259 990 ₸</td>\n",
       "      <td>5.0</td>\n",
       "    </tr>\n",
       "    <tr>\n",
       "      <th>11</th>\n",
       "      <td>Xiaomi 12T 256GB/8GB Silver</td>\n",
       "      <td>299 990 ₸</td>\n",
       "      <td>0.0</td>\n",
       "    </tr>\n",
       "    <tr>\n",
       "      <th>13</th>\n",
       "      <td>Poco M4 Pro 256/8GB 4G Power Black</td>\n",
       "      <td>149 990 ₸</td>\n",
       "      <td>5.0</td>\n",
       "    </tr>\n",
       "  </tbody>\n",
       "</table>\n",
       "</div>"
      ],
      "text/plain": [
       "                                  Name      Price Rating out of 5\n",
       "3   Xiaomi 12 Lite 256GB/8GB Lite Pink  239 990 ₸             5.0\n",
       "6          Samsung Galaxy A03 32GB Red   69 990 ₸             5.0\n",
       "9    OPPO Reno 7 256GB 5G Starry Black  259 990 ₸             5.0\n",
       "11         Xiaomi 12T 256GB/8GB Silver  299 990 ₸             0.0\n",
       "13  Poco M4 Pro 256/8GB 4G Power Black  149 990 ₸             5.0"
      ]
     },
     "execution_count": 11,
     "metadata": {},
     "output_type": "execute_result"
    }
   ],
   "source": [
    "data = data[data[\"Price\"].str.contains(\"Sold Out\") == False]\n",
    "data.head()"
   ]
  },
  {
   "cell_type": "code",
   "execution_count": 12,
   "id": "4c6af2a6",
   "metadata": {},
   "outputs": [
    {
     "name": "stderr",
     "output_type": "stream",
     "text": [
      "C:\\Users\\Мерей\\AppData\\Local\\Temp\\ipykernel_33688\\1507164464.py:1: SettingWithCopyWarning: \n",
      "A value is trying to be set on a copy of a slice from a DataFrame.\n",
      "Try using .loc[row_indexer,col_indexer] = value instead\n",
      "\n",
      "See the caveats in the documentation: https://pandas.pydata.org/pandas-docs/stable/user_guide/indexing.html#returning-a-view-versus-a-copy\n",
      "  data['Price'] = data['Price'].str.strip(\"₸\")\n"
     ]
    }
   ],
   "source": [
    "data['Price'] = data['Price'].str.strip(\"₸\")"
   ]
  },
  {
   "cell_type": "code",
   "execution_count": 13,
   "id": "efc79361",
   "metadata": {},
   "outputs": [
    {
     "name": "stderr",
     "output_type": "stream",
     "text": [
      "C:\\Users\\Мерей\\AppData\\Local\\Temp\\ipykernel_33688\\279904193.py:1: SettingWithCopyWarning: \n",
      "A value is trying to be set on a copy of a slice from a DataFrame.\n",
      "Try using .loc[row_indexer,col_indexer] = value instead\n",
      "\n",
      "See the caveats in the documentation: https://pandas.pydata.org/pandas-docs/stable/user_guide/indexing.html#returning-a-view-versus-a-copy\n",
      "  data['Rating out of 5'] = data['Rating out of 5'].astype('float')\n"
     ]
    }
   ],
   "source": [
    "data['Rating out of 5'] = data['Rating out of 5'].astype('float')"
   ]
  },
  {
   "cell_type": "code",
   "execution_count": 14,
   "id": "42c98e75",
   "metadata": {},
   "outputs": [
    {
     "name": "stderr",
     "output_type": "stream",
     "text": [
      "C:\\Users\\Мерей\\AppData\\Local\\Temp\\ipykernel_33688\\608253498.py:1: SettingWithCopyWarning: \n",
      "A value is trying to be set on a copy of a slice from a DataFrame.\n",
      "Try using .loc[row_indexer,col_indexer] = value instead\n",
      "\n",
      "See the caveats in the documentation: https://pandas.pydata.org/pandas-docs/stable/user_guide/indexing.html#returning-a-view-versus-a-copy\n",
      "  data['Price'] = data['Price'].str.strip()\n"
     ]
    }
   ],
   "source": [
    "data['Price'] = data['Price'].str.strip()"
   ]
  },
  {
   "cell_type": "code",
   "execution_count": 15,
   "id": "2c8aae96",
   "metadata": {},
   "outputs": [],
   "source": [
    "data.to_csv(\"technodom.csv\", encoding=\"utf-8\")"
   ]
  }
 ],
 "metadata": {
  "kernelspec": {
   "display_name": "Python 3 (ipykernel)",
   "language": "python",
   "name": "python3"
  },
  "language_info": {
   "codemirror_mode": {
    "name": "ipython",
    "version": 3
   },
   "file_extension": ".py",
   "mimetype": "text/x-python",
   "name": "python",
   "nbconvert_exporter": "python",
   "pygments_lexer": "ipython3",
   "version": "3.9.12"
  }
 },
 "nbformat": 4,
 "nbformat_minor": 5
}
